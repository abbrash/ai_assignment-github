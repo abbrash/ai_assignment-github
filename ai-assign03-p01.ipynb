{
 "cells": [
  {
   "attachments": {},
   "cell_type": "markdown",
   "metadata": {},
   "source": [
    "# Assignment 03 \n",
    "## Problem 01 \n"
   ]
  },
  {
   "attachments": {},
   "cell_type": "markdown",
   "metadata": {},
   "source": [
    "Importing Libraries\n"
   ]
  },
  {
   "cell_type": "code",
   "execution_count": 1,
   "metadata": {},
   "outputs": [],
   "source": [
    "import numpy as np\n",
    "import pandas as pd\n",
    "import tensorflow as tf\n",
    "from sklearn.model_selection import train_test_split \n",
    "from matplotlib import pyplot as plt\n",
    "\n",
    "dataset = pd.read_csv('Human_activity_Dataset.csv')     # shape = (10299, 563)\n",
    "\n",
    "dataset = dataset.drop(columns=['subject/Participant'])"
   ]
  },
  {
   "attachments": {},
   "cell_type": "markdown",
   "metadata": {},
   "source": [
    "### Preprocessing"
   ]
  },
  {
   "cell_type": "code",
   "execution_count": 2,
   "metadata": {},
   "outputs": [],
   "source": [
    "dataset = pd.get_dummies(dataset, columns=['Activity'])\n",
    "dataset_train, dataset_valid = train_test_split(dataset, test_size=0.2)\n",
    "\n",
    "labels_train = dataset_train[['Activity_LAYING', 'Activity_SITTING', 'Activity_STANDING', \n",
    "                              'Activity_WALKING', 'Activity_WALKING_DOWNSTAIRS', 'Activity_WALKING_UPSTAIRS']]\n",
    "\n",
    "labels_valid = dataset_valid[['Activity_LAYING', 'Activity_SITTING', 'Activity_STANDING', \n",
    "                              'Activity_WALKING', 'Activity_WALKING_DOWNSTAIRS', 'Activity_WALKING_UPSTAIRS']]\n",
    "\n",
    "features_train = dataset_train.drop(columns=labels_train)\n",
    "features_valid = dataset_valid.drop(columns=labels_valid)\n",
    "\n",
    "features_num = (features_train).shape[1]                # 561:   excluded columns: 'Activity' and 'subject/Participant'    \n",
    "output_num = 6                                          # 6:     There are six neurons in the output layer."
   ]
  },
  {
   "attachments": {},
   "cell_type": "markdown",
   "metadata": {},
   "source": [
    "## Model Generation"
   ]
  },
  {
   "cell_type": "code",
   "execution_count": null,
   "metadata": {},
   "outputs": [],
   "source": [
    "tf.random.set_seed(42)\n",
    "\n",
    "model = tf.keras.Sequential([\n",
    "                             tf.keras.layers.Flatten(input_shape=[features_num, 1]),\n",
    "                             tf.keras.layers.Dense(600, activation=\"relu\"),\n",
    "                             tf.keras.layers.Dense(300, activation=\"relu\"),\n",
    "                             tf.keras.layers.Dense(100, activation=\"relu\"),\n",
    "                             tf.keras.layers.Dense(6, activation=\"softmax\")\n",
    "                            ])\n",
    "\n",
    "model.summary()\n",
    "\n",
    "model.compile(\n",
    "              loss=\"sparse_categorical_crossentropy\",\n",
    "              optimizer=\"sgd\",\n",
    "              metrics=[\"accuracy\"]\n",
    "             )\n",
    "\n",
    "\n",
    "# histrory = model.fit(features_train, labels_train, epochs=30, \n",
    "#                      validation_data=(features_valid, labels_valid))"
   ]
  },
  {
   "cell_type": "code",
   "execution_count": null,
   "metadata": {},
   "outputs": [],
   "source": [
    "histrory = model.fit(features_train, labels_train, epochs=30, \n",
    "                     validation_data=(features_valid, labels_valid))"
   ]
  },
  {
   "cell_type": "code",
   "execution_count": null,
   "metadata": {},
   "outputs": [],
   "source": [
    "features_num = features_train.shape[1]\n",
    "features_num"
   ]
  }
 ],
 "metadata": {
  "kernelspec": {
   "display_name": "arash",
   "language": "python",
   "name": "python3"
  },
  "language_info": {
   "codemirror_mode": {
    "name": "ipython",
    "version": 3
   },
   "file_extension": ".py",
   "mimetype": "text/x-python",
   "name": "python",
   "nbconvert_exporter": "python",
   "pygments_lexer": "ipython3",
   "version": "3.9.0"
  },
  "orig_nbformat": 4
 },
 "nbformat": 4,
 "nbformat_minor": 2
}
